{
  "nbformat": 4,
  "nbformat_minor": 0,
  "metadata": {
    "colab": {
      "name": "Copy of Copy of 3bottlesort (2).ipynb",
      "provenance": [],
      "collapsed_sections": []
    },
    "kernelspec": {
      "name": "python3",
      "display_name": "Python 3"
    }
  },
  "cells": [
    {
      "cell_type": "code",
      "metadata": {
        "id": "BbjfVPyASe3X",
        "colab_type": "code",
        "colab": {}
      },
      "source": [
        "from keras.models import Sequential\n",
        "from keras.layers import Dense\n",
        "from keras.layers import Convolution2D\n",
        "from keras.layers import MaxPooling2D\n",
        "from keras.layers import Flatten"
      ],
      "execution_count": null,
      "outputs": []
    },
    {
      "cell_type": "code",
      "metadata": {
        "id": "Gh0JyyS92Ry6",
        "colab_type": "code",
        "colab": {
          "base_uri": "https://localhost:8080/",
          "height": 35
        },
        "outputId": "424276b8-0414-4786-e087-d54eb8cec66a"
      },
      "source": [
        "from google.colab import drive\n",
        "drive.mount('/content/drive')"
      ],
      "execution_count": null,
      "outputs": [
        {
          "output_type": "stream",
          "text": [
            "Drive already mounted at /content/drive; to attempt to forcibly remount, call drive.mount(\"/content/drive\", force_remount=True).\n"
          ],
          "name": "stdout"
        }
      ]
    },
    {
      "cell_type": "code",
      "metadata": {
        "id": "QZ7tPXBMSntX",
        "colab_type": "code",
        "colab": {}
      },
      "source": [
        "from keras.preprocessing.image import ImageDataGenerator\n",
        "from keras.preprocessing import image\n",
        "train_datagen = ImageDataGenerator(rescale = 1./255,shear_range = 0.2,zoom_range = 0.2,horizontal_flip = True)\n",
        "test_datagen = ImageDataGenerator(rescale = 1./255)"
      ],
      "execution_count": null,
      "outputs": []
    },
    {
      "cell_type": "code",
      "metadata": {
        "id": "Ld3Ey6qwSu8Q",
        "colab_type": "code",
        "colab": {
          "base_uri": "https://localhost:8080/",
          "height": 52
        },
        "outputId": "51585131-482c-483a-f29f-87e814b59f7b"
      },
      "source": [
        "x_train = train_datagen.flow_from_directory(r'/content/drive/My Drive/RGB BOTTLES/train',target_size = (64,64),batch_size = 32 , class_mode = 'categorical')\n",
        "x_test = test_datagen.flow_from_directory(r'/content/drive/My Drive/RGB BOTTLES/test',target_size = (64,64),batch_size = 32 , class_mode = 'categorical')"
      ],
      "execution_count": null,
      "outputs": [
        {
          "output_type": "stream",
          "text": [
            "Found 722 images belonging to 6 classes.\n",
            "Found 105 images belonging to 6 classes.\n"
          ],
          "name": "stdout"
        }
      ]
    },
    {
      "cell_type": "code",
      "metadata": {
        "id": "eQg1FyQ3S82g",
        "colab_type": "code",
        "colab": {
          "base_uri": "https://localhost:8080/",
          "height": 35
        },
        "outputId": "32cb88a8-680e-46f4-8568-9e74c16208a1"
      },
      "source": [
        "print(x_train.class_indices)"
      ],
      "execution_count": null,
      "outputs": [
        {
          "output_type": "stream",
          "text": [
            "{'Blueb': 0, 'Greenb': 1, 'Redb': 2, 'orangeb': 3, 'purpleb': 4, 'yellowb': 5}\n"
          ],
          "name": "stdout"
        }
      ]
    },
    {
      "cell_type": "code",
      "metadata": {
        "id": "BLh_ZxCUTAdr",
        "colab_type": "code",
        "colab": {}
      },
      "source": [
        "from keras.models import Sequential\n",
        "model = Sequential()"
      ],
      "execution_count": null,
      "outputs": []
    },
    {
      "cell_type": "code",
      "metadata": {
        "id": "35EEu8WrTD7w",
        "colab_type": "code",
        "colab": {}
      },
      "source": [
        "from keras.layers.convolutional import Conv2D\n",
        "model.add(Conv2D(32,(3,3), input_shape = (64,64,3),activation = \"relu\"))"
      ],
      "execution_count": null,
      "outputs": []
    },
    {
      "cell_type": "code",
      "metadata": {
        "id": "c6IqgpigTFpI",
        "colab_type": "code",
        "colab": {}
      },
      "source": [
        "from keras.layers.convolutional import Conv2D, MaxPooling2D\n",
        "from keras.models import Sequential\n",
        "from keras.layers import Dense, Activation, Flatten\n",
        "model.add(MaxPooling2D(pool_size = (2,2)))"
      ],
      "execution_count": null,
      "outputs": []
    },
    {
      "cell_type": "code",
      "metadata": {
        "id": "7fhM0nosTH6a",
        "colab_type": "code",
        "colab": {}
      },
      "source": [
        "model.add(Flatten()) "
      ],
      "execution_count": null,
      "outputs": []
    },
    {
      "cell_type": "code",
      "metadata": {
        "id": "1EKgfK-lTKZE",
        "colab_type": "code",
        "colab": {
          "base_uri": "https://localhost:8080/",
          "height": 72
        },
        "outputId": "53249d42-4def-44dd-8d21-aeb0cb4d2c5b"
      },
      "source": [
        "model.add(Dense(units = 128,init = \"random_uniform\",activation = \"relu\")) #hdden layer"
      ],
      "execution_count": null,
      "outputs": [
        {
          "output_type": "stream",
          "text": [
            "/usr/local/lib/python3.6/dist-packages/ipykernel_launcher.py:1: UserWarning: Update your `Dense` call to the Keras 2 API: `Dense(units=128, activation=\"relu\", kernel_initializer=\"random_uniform\")`\n",
            "  \"\"\"Entry point for launching an IPython kernel.\n"
          ],
          "name": "stderr"
        }
      ]
    },
    {
      "cell_type": "code",
      "metadata": {
        "id": "ppndHX75TNAZ",
        "colab_type": "code",
        "colab": {
          "base_uri": "https://localhost:8080/",
          "height": 72
        },
        "outputId": "2742fb75-97d3-44f7-9767-7eeb6c72d200"
      },
      "source": [
        "model.add(Dense(units =6,init = \"random_uniform\",activation = \"softmax\")) #output layer"
      ],
      "execution_count": null,
      "outputs": [
        {
          "output_type": "stream",
          "text": [
            "/usr/local/lib/python3.6/dist-packages/ipykernel_launcher.py:1: UserWarning: Update your `Dense` call to the Keras 2 API: `Dense(units=6, activation=\"softmax\", kernel_initializer=\"random_uniform\")`\n",
            "  \"\"\"Entry point for launching an IPython kernel.\n"
          ],
          "name": "stderr"
        }
      ]
    },
    {
      "cell_type": "code",
      "metadata": {
        "id": "clLCiK4nTQ1Q",
        "colab_type": "code",
        "colab": {}
      },
      "source": [
        "model.compile(loss = \"categorical_crossentropy\",optimizer = \"adam\",metrics = [\"accuracy\"])"
      ],
      "execution_count": null,
      "outputs": []
    },
    {
      "cell_type": "code",
      "metadata": {
        "id": "QmxmBJwiTUeF",
        "colab_type": "code",
        "colab": {
          "base_uri": "https://localhost:8080/",
          "height": 961
        },
        "outputId": "eddf8e0b-69a4-4d49-acf6-cf0d61224c26"
      },
      "source": [
        "history = model.fit_generator(x_train , steps_per_epoch =  47 , epochs = 25, validation_data = x_test, validation_steps = 20)"
      ],
      "execution_count": null,
      "outputs": [
        {
          "output_type": "stream",
          "text": [
            "Epoch 1/25\n",
            "10/47 [=====>........................] - ETA: 18s - loss: 0.0529 - accuracy: 0.9875"
          ],
          "name": "stdout"
        },
        {
          "output_type": "stream",
          "text": [
            "/usr/local/lib/python3.6/dist-packages/PIL/Image.py:932: UserWarning: Palette images with Transparency expressed in bytes should be converted to RGBA images\n",
            "  \"Palette images with Transparency expressed in bytes should be \"\n"
          ],
          "name": "stderr"
        },
        {
          "output_type": "stream",
          "text": [
            "47/47 [==============================] - 25s 529ms/step - loss: 0.0633 - accuracy: 0.9824 - val_loss: 7.3831 - val_accuracy: 0.5524\n",
            "Epoch 2/25\n",
            "47/47 [==============================] - 24s 503ms/step - loss: 0.0695 - accuracy: 0.9817 - val_loss: 2.1251 - val_accuracy: 0.5429\n",
            "Epoch 3/25\n",
            "47/47 [==============================] - 24s 518ms/step - loss: 0.0854 - accuracy: 0.9722 - val_loss: 8.8607 - val_accuracy: 0.5048\n",
            "Epoch 4/25\n",
            "47/47 [==============================] - 24s 505ms/step - loss: 0.1046 - accuracy: 0.9682 - val_loss: 3.1329 - val_accuracy: 0.4952\n",
            "Epoch 5/25\n",
            "47/47 [==============================] - 24s 506ms/step - loss: 0.0768 - accuracy: 0.9749 - val_loss: 7.0271 - val_accuracy: 0.5143\n",
            "Epoch 6/25\n",
            "47/47 [==============================] - 23s 499ms/step - loss: 0.0538 - accuracy: 0.9824 - val_loss: 8.7479 - val_accuracy: 0.5333\n",
            "Epoch 7/25\n",
            "47/47 [==============================] - 24s 508ms/step - loss: 0.0528 - accuracy: 0.9810 - val_loss: 6.1766 - val_accuracy: 0.5238\n",
            "Epoch 8/25\n",
            "47/47 [==============================] - 25s 522ms/step - loss: 0.0534 - accuracy: 0.9831 - val_loss: 10.7767 - val_accuracy: 0.5524\n",
            "Epoch 9/25\n",
            "47/47 [==============================] - 24s 503ms/step - loss: 0.0511 - accuracy: 0.9824 - val_loss: 10.1750 - val_accuracy: 0.5048\n",
            "Epoch 10/25\n",
            "47/47 [==============================] - 24s 509ms/step - loss: 0.0623 - accuracy: 0.9754 - val_loss: 8.0243 - val_accuracy: 0.5524\n",
            "Epoch 11/25\n",
            "47/47 [==============================] - 24s 514ms/step - loss: 0.0504 - accuracy: 0.9851 - val_loss: 1.2520 - val_accuracy: 0.5333\n",
            "Epoch 12/25\n",
            "47/47 [==============================] - 24s 512ms/step - loss: 0.0259 - accuracy: 0.9926 - val_loss: 3.9133 - val_accuracy: 0.5429\n",
            "Epoch 13/25\n",
            "47/47 [==============================] - 24s 510ms/step - loss: 0.0318 - accuracy: 0.9912 - val_loss: 11.3648 - val_accuracy: 0.5524\n",
            "Epoch 14/25\n",
            "47/47 [==============================] - 24s 514ms/step - loss: 0.0345 - accuracy: 0.9884 - val_loss: 11.0874 - val_accuracy: 0.5429\n",
            "Epoch 15/25\n",
            "47/47 [==============================] - 24s 506ms/step - loss: 0.0289 - accuracy: 0.9905 - val_loss: 3.1303 - val_accuracy: 0.5333\n",
            "Epoch 16/25\n",
            "47/47 [==============================] - 23s 499ms/step - loss: 0.0318 - accuracy: 0.9892 - val_loss: 5.1208 - val_accuracy: 0.5333\n",
            "Epoch 17/25\n",
            "47/47 [==============================] - 24s 514ms/step - loss: 0.0430 - accuracy: 0.9844 - val_loss: 7.7729 - val_accuracy: 0.5429\n",
            "Epoch 18/25\n",
            "47/47 [==============================] - 24s 507ms/step - loss: 0.0590 - accuracy: 0.9812 - val_loss: 9.0261 - val_accuracy: 0.5238\n",
            "Epoch 19/25\n",
            "47/47 [==============================] - 24s 506ms/step - loss: 0.0549 - accuracy: 0.9836 - val_loss: 10.6608 - val_accuracy: 0.5143\n",
            "Epoch 20/25\n",
            "47/47 [==============================] - 24s 509ms/step - loss: 0.0354 - accuracy: 0.9878 - val_loss: 3.8473 - val_accuracy: 0.5524\n",
            "Epoch 21/25\n",
            "47/47 [==============================] - 24s 502ms/step - loss: 0.0310 - accuracy: 0.9898 - val_loss: 7.1625 - val_accuracy: 0.5238\n",
            "Epoch 22/25\n",
            "47/47 [==============================] - 24s 509ms/step - loss: 0.0287 - accuracy: 0.9878 - val_loss: 7.0975 - val_accuracy: 0.5238\n",
            "Epoch 23/25\n",
            "47/47 [==============================] - 25s 533ms/step - loss: 0.0230 - accuracy: 0.9919 - val_loss: 19.1255 - val_accuracy: 0.5333\n",
            "Epoch 24/25\n",
            "47/47 [==============================] - 24s 512ms/step - loss: 0.0232 - accuracy: 0.9939 - val_loss: 11.2045 - val_accuracy: 0.5429\n",
            "Epoch 25/25\n",
            "47/47 [==============================] - 24s 502ms/step - loss: 0.0384 - accuracy: 0.9844 - val_loss: 9.3543 - val_accuracy: 0.5048\n"
          ],
          "name": "stdout"
        }
      ]
    },
    {
      "cell_type": "code",
      "metadata": {
        "id": "54T1BysnVhmc",
        "colab_type": "code",
        "colab": {}
      },
      "source": [
        "model.save(\"bottles_final.h5\")"
      ],
      "execution_count": null,
      "outputs": []
    },
    {
      "cell_type": "code",
      "metadata": {
        "id": "becPS-97WgK0",
        "colab_type": "code",
        "colab": {
          "base_uri": "https://localhost:8080/",
          "height": 337
        },
        "outputId": "45a518ed-add8-4e51-dbe5-ad3fe3460265"
      },
      "source": [
        "model.summary()"
      ],
      "execution_count": null,
      "outputs": [
        {
          "output_type": "stream",
          "text": [
            "Model: \"sequential_2\"\n",
            "_________________________________________________________________\n",
            "Layer (type)                 Output Shape              Param #   \n",
            "=================================================================\n",
            "conv2d_2 (Conv2D)            (None, 62, 62, 32)        896       \n",
            "_________________________________________________________________\n",
            "max_pooling2d_2 (MaxPooling2 (None, 31, 31, 32)        0         \n",
            "_________________________________________________________________\n",
            "flatten_2 (Flatten)          (None, 30752)             0         \n",
            "_________________________________________________________________\n",
            "dense_3 (Dense)              (None, 128)               3936384   \n",
            "_________________________________________________________________\n",
            "dense_4 (Dense)              (None, 6)                 774       \n",
            "=================================================================\n",
            "Total params: 3,938,054\n",
            "Trainable params: 3,938,054\n",
            "Non-trainable params: 0\n",
            "_________________________________________________________________\n"
          ],
          "name": "stdout"
        }
      ]
    },
    {
      "cell_type": "code",
      "metadata": {
        "id": "0UO1JAhwWqp5",
        "colab_type": "code",
        "colab": {
          "base_uri": "https://localhost:8080/",
          "height": 499
        },
        "outputId": "c1e3a2a0-119f-424d-da43-850f9150b95c"
      },
      "source": [
        "import matplotlib.pyplot as plt\n",
        "acc = history.history['accuracy']\n",
        "val_acc = history.history['val_accuracy']\n",
        "\n",
        "loss=history.history['loss']\n",
        "val_loss=history.history['val_loss']\n",
        "\n",
        "epochs_range = range(25)\n",
        "\n",
        "plt.figure(figsize=(8, 8))\n",
        "plt.subplot(1, 2, 1)\n",
        "plt.plot(epochs_range, acc, label='Training Accuracy')\n",
        "plt.plot(epochs_range, val_acc, label='Validation Accuracy')\n",
        "plt.legend(loc='lower right')\n",
        "plt.title('Training and Validation Accuracy')\n",
        "\n",
        "plt.subplot(1, 2, 2)\n",
        "plt.plot(epochs_range, loss, label='Training Loss')\n",
        "plt.plot(epochs_range, val_loss, label='Validation Loss')\n",
        "plt.legend(loc='upper right')\n",
        "plt.title('Training and Validation Loss')\n",
        "plt.show()"
      ],
      "execution_count": null,
      "outputs": [
        {
          "output_type": "display_data",
          "data": {
            "image/png": "[encoded data removed]",
            "text/plain": [
              "<Figure size 576x576 with 2 Axes>"
            ]
          },
          "metadata": {
            "tags": [],
            "needs_background": "light"
          }
        }
      ]
    },
    {
      "cell_type": "code",
      "metadata": {
        "id": "kUnz-VMiGwnb",
        "colab_type": "code",
        "colab": {}
      },
      "source": [
        "import cv2\n",
        "import numpy as np"
      ],
      "execution_count": null,
      "outputs": []
    },
    {
      "cell_type": "code",
      "metadata": {
        "id": "Y8niFOIxG1GT",
        "colab_type": "code",
        "colab": {
          "base_uri": "https://localhost:8080/",
          "height": 248
        },
        "outputId": "d9927b29-f408-4c94-d94b-b631a1cad616"
      },
      "source": [
        "from keras.preprocessing import image\n",
        "from keras.models import load_model\n",
        "\n",
        "model = load_model('bottles_final.h5')\n",
        "video = cv2.VideoCapture(0)\n",
        "name = [\"Blueb\", \"Greenb\", \"Redb\", \"orangeb\", \"purpleb\",\"yellowb\"]\n",
        "\n",
        "while(1):\n",
        "    success, frame = video.read()\n",
        "    cv2.imwrite(\"image.jpg\",frame)\n",
        "    img = image.load_img(\"image.jpg\",target_size = (64,64))\n",
        "    x = image.img_to_array(img)\n",
        "    x = np.expand_dims(x,axis = 0)\n",
        "    pred = model.predict_classes(x)\n",
        "    p = pred[0]\n",
        "    print(pred)\n",
        "    cv2.putText(frame,\"predicted = \" +str(name[p]),(100,100), cv2.FONT_HERSHEY_SIMPLEX, 1, (0,0,0),1)\n",
        "    cv2.imshow(\"image\",frame)\n",
        "    if cv2.waitKey(1) & 0xFF == ord('q'):\n",
        "        break\n",
        "\n",
        "video.release()\n",
        "cv2.destroyAllWindows()\n"
      ],
      "execution_count": null,
      "outputs": [
        {
          "output_type": "error",
          "ename": "error",
          "evalue": "ignored",
          "traceback": [
            "\u001b[0;31m---------------------------------------------------------------------------\u001b[0m",
            "\u001b[0;31merror\u001b[0m                                     Traceback (most recent call last)",
            "\u001b[0;32m<ipython-input-21-02c5d624ac80>\u001b[0m in \u001b[0;36m<module>\u001b[0;34m()\u001b[0m\n\u001b[1;32m      8\u001b[0m \u001b[0;32mwhile\u001b[0m\u001b[0;34m(\u001b[0m\u001b[0;36m1\u001b[0m\u001b[0;34m)\u001b[0m\u001b[0;34m:\u001b[0m\u001b[0;34m\u001b[0m\u001b[0;34m\u001b[0m\u001b[0m\n\u001b[1;32m      9\u001b[0m     \u001b[0msuccess\u001b[0m\u001b[0;34m,\u001b[0m \u001b[0mframe\u001b[0m \u001b[0;34m=\u001b[0m \u001b[0mvideo\u001b[0m\u001b[0;34m.\u001b[0m\u001b[0mread\u001b[0m\u001b[0;34m(\u001b[0m\u001b[0;34m)\u001b[0m\u001b[0;34m\u001b[0m\u001b[0;34m\u001b[0m\u001b[0m\n\u001b[0;32m---> 10\u001b[0;31m     \u001b[0mcv2\u001b[0m\u001b[0;34m.\u001b[0m\u001b[0mimwrite\u001b[0m\u001b[0;34m(\u001b[0m\u001b[0;34m\"image.jpg\"\u001b[0m\u001b[0;34m,\u001b[0m\u001b[0mframe\u001b[0m\u001b[0;34m)\u001b[0m\u001b[0;34m\u001b[0m\u001b[0;34m\u001b[0m\u001b[0m\n\u001b[0m\u001b[1;32m     11\u001b[0m     \u001b[0mimg\u001b[0m \u001b[0;34m=\u001b[0m \u001b[0mimage\u001b[0m\u001b[0;34m.\u001b[0m\u001b[0mload_img\u001b[0m\u001b[0;34m(\u001b[0m\u001b[0;34m\"image.jpg\"\u001b[0m\u001b[0;34m,\u001b[0m\u001b[0mtarget_size\u001b[0m \u001b[0;34m=\u001b[0m \u001b[0;34m(\u001b[0m\u001b[0;36m64\u001b[0m\u001b[0;34m,\u001b[0m\u001b[0;36m64\u001b[0m\u001b[0;34m)\u001b[0m\u001b[0;34m)\u001b[0m\u001b[0;34m\u001b[0m\u001b[0;34m\u001b[0m\u001b[0m\n\u001b[1;32m     12\u001b[0m     \u001b[0mx\u001b[0m \u001b[0;34m=\u001b[0m \u001b[0mimage\u001b[0m\u001b[0;34m.\u001b[0m\u001b[0mimg_to_array\u001b[0m\u001b[0;34m(\u001b[0m\u001b[0mimg\u001b[0m\u001b[0;34m)\u001b[0m\u001b[0;34m\u001b[0m\u001b[0;34m\u001b[0m\u001b[0m\n",
            "\u001b[0;31merror\u001b[0m: OpenCV(4.1.2) /io/opencv/modules/imgcodecs/src/loadsave.cpp:715: error: (-215:Assertion failed) !_img.empty() in function 'imwrite'\n"
          ]
        }
      ]
    },
    {
      "cell_type": "code",
      "metadata": {
        "id": "QMCey51fVj4a",
        "colab_type": "code",
        "colab": {}
      },
      "source": [
        "from keras.models import load_model\n",
        "from keras.preprocessing import image\n",
        "import numpy as np "
      ],
      "execution_count": null,
      "outputs": []
    },
    {
      "cell_type": "code",
      "metadata": {
        "id": "dqRSj2PGVmx9",
        "colab_type": "code",
        "colab": {}
      },
      "source": [
        "model = load_model(\"bottles_final.h5\")"
      ],
      "execution_count": null,
      "outputs": []
    },
    {
      "cell_type": "code",
      "metadata": {
        "id": "l_0wZGWZVpi3",
        "colab_type": "code",
        "colab": {}
      },
      "source": [
        "img = image.load_img(\"/content/drive/My Drive/RGB BOTTLES/test/purpleb/[www.google.com][67472].jpg\",target_size= (64,64))"
      ],
      "execution_count": null,
      "outputs": []
    },
    {
      "cell_type": "code",
      "metadata": {
        "id": "2PuGpn_fVwUj",
        "colab_type": "code",
        "colab": {}
      },
      "source": [
        "x = image.img_to_array(img)\n",
        "x = np.expand_dims(x,axis = 0)"
      ],
      "execution_count": null,
      "outputs": []
    },
    {
      "cell_type": "code",
      "metadata": {
        "id": "zvqhkN00VyLQ",
        "colab_type": "code",
        "colab": {
          "base_uri": "https://localhost:8080/",
          "height": 33
        },
        "outputId": "c4c93308-10da-4e69-83e0-8a11552812a6"
      },
      "source": [
        "x.shape"
      ],
      "execution_count": null,
      "outputs": [
        {
          "output_type": "execute_result",
          "data": {
            "text/plain": [
              "(1, 64, 64, 3)"
            ]
          },
          "metadata": {
            "tags": []
          },
          "execution_count": 28
        }
      ]
    },
    {
      "cell_type": "code",
      "metadata": {
        "id": "ghE4KJD5V0bR",
        "colab_type": "code",
        "colab": {}
      },
      "source": [
        "pred = model.predict_classes(x)"
      ],
      "execution_count": null,
      "outputs": []
    },
    {
      "cell_type": "code",
      "metadata": {
        "id": "sg73vjwmV3y8",
        "colab_type": "code",
        "colab": {
          "base_uri": "https://localhost:8080/",
          "height": 33
        },
        "outputId": "1dcdf67f-22ab-4183-b3d6-17d8fe4f3d76"
      },
      "source": [
        "pred"
      ],
      "execution_count": null,
      "outputs": [
        {
          "output_type": "execute_result",
          "data": {
            "text/plain": [
              "array([4])"
            ]
          },
          "metadata": {
            "tags": []
          },
          "execution_count": 30
        }
      ]
    },
    {
      "cell_type": "code",
      "metadata": {
        "id": "481AgoGVV7bk",
        "colab_type": "code",
        "colab": {
          "base_uri": "https://localhost:8080/",
          "height": 33
        },
        "outputId": "31f2a491-edaa-4f06-e9fe-63fbf8bd8079"
      },
      "source": [
        "print(x_train.class_indices)"
      ],
      "execution_count": null,
      "outputs": [
        {
          "output_type": "stream",
          "text": [
            "{'Blueb': 0, 'Greenb': 1, 'Redb': 2, 'orangeb': 3, 'purpleb': 4, 'yellowb': 5}\n"
          ],
          "name": "stdout"
        }
      ]
    }
  ]
}